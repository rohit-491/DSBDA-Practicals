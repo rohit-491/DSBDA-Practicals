{
 "cells": [
  {
   "cell_type": "markdown",
   "id": "a6ab15d4",
   "metadata": {},
   "source": [
    "* Importing Necessary Libraries"
   ]
  },
  {
   "cell_type": "code",
   "execution_count": 1,
   "id": "9310282b",
   "metadata": {
    "execution": {
     "iopub.execute_input": "2022-03-28T06:29:17.644449Z",
     "iopub.status.busy": "2022-03-28T06:29:17.643812Z",
     "iopub.status.idle": "2022-03-28T06:29:18.719152Z",
     "shell.execute_reply": "2022-03-28T06:29:18.718388Z",
     "shell.execute_reply.started": "2022-03-28T05:56:12.12105Z"
    },
    "papermill": {
     "duration": 1.10974,
     "end_time": "2022-03-28T06:29:18.719305",
     "exception": false,
     "start_time": "2022-03-28T06:29:17.609565",
     "status": "completed"
    },
    "tags": []
   },
   "outputs": [],
   "source": [
    "import numpy as np\n",
    "import pandas as pd\n",
    "import matplotlib.pyplot as plt\n",
    "from sklearn.model_selection import train_test_split\n",
    "from sklearn.linear_model import LogisticRegression\n",
    "from sklearn.preprocessing import StandardScaler\n",
    "from sklearn.metrics import confusion_matrix,ConfusionMatrixDisplay,classification_report,accuracy_score, precision_score, recall_score, f1_score\n"
   ]
  },
  {
   "cell_type": "markdown",
   "id": "e34c9f7b",
   "metadata": {},
   "source": [
    "* Loading the dataset and printing the first 5 rows of the dataset"
   ]
  },
  {
   "cell_type": "code",
   "execution_count": 2,
   "id": "869606d2",
   "metadata": {
    "execution": {
     "iopub.execute_input": "2022-03-28T06:29:18.765204Z",
     "iopub.status.busy": "2022-03-28T06:29:18.764635Z",
     "iopub.status.idle": "2022-03-28T06:29:18.788698Z",
     "shell.execute_reply": "2022-03-28T06:29:18.789144Z",
     "shell.execute_reply.started": "2022-03-28T05:56:12.132733Z"
    },
    "papermill": {
     "duration": 0.04806,
     "end_time": "2022-03-28T06:29:18.789308",
     "exception": false,
     "start_time": "2022-03-28T06:29:18.741248",
     "status": "completed"
    },
    "tags": []
   },
   "outputs": [
    {
     "data": {
      "text/html": [
       "<div>\n",
       "<style scoped>\n",
       "    .dataframe tbody tr th:only-of-type {\n",
       "        vertical-align: middle;\n",
       "    }\n",
       "\n",
       "    .dataframe tbody tr th {\n",
       "        vertical-align: top;\n",
       "    }\n",
       "\n",
       "    .dataframe thead th {\n",
       "        text-align: right;\n",
       "    }\n",
       "</style>\n",
       "<table border=\"1\" class=\"dataframe\">\n",
       "  <thead>\n",
       "    <tr style=\"text-align: right;\">\n",
       "      <th></th>\n",
       "      <th>User ID</th>\n",
       "      <th>Gender</th>\n",
       "      <th>Age</th>\n",
       "      <th>EstimatedSalary</th>\n",
       "      <th>Purchased</th>\n",
       "    </tr>\n",
       "  </thead>\n",
       "  <tbody>\n",
       "    <tr>\n",
       "      <th>0</th>\n",
       "      <td>15624510</td>\n",
       "      <td>Male</td>\n",
       "      <td>19</td>\n",
       "      <td>19000</td>\n",
       "      <td>0</td>\n",
       "    </tr>\n",
       "    <tr>\n",
       "      <th>1</th>\n",
       "      <td>15810944</td>\n",
       "      <td>Male</td>\n",
       "      <td>35</td>\n",
       "      <td>20000</td>\n",
       "      <td>0</td>\n",
       "    </tr>\n",
       "    <tr>\n",
       "      <th>2</th>\n",
       "      <td>15668575</td>\n",
       "      <td>Female</td>\n",
       "      <td>26</td>\n",
       "      <td>43000</td>\n",
       "      <td>0</td>\n",
       "    </tr>\n",
       "    <tr>\n",
       "      <th>3</th>\n",
       "      <td>15603246</td>\n",
       "      <td>Female</td>\n",
       "      <td>27</td>\n",
       "      <td>57000</td>\n",
       "      <td>0</td>\n",
       "    </tr>\n",
       "    <tr>\n",
       "      <th>4</th>\n",
       "      <td>15804002</td>\n",
       "      <td>Male</td>\n",
       "      <td>19</td>\n",
       "      <td>76000</td>\n",
       "      <td>0</td>\n",
       "    </tr>\n",
       "  </tbody>\n",
       "</table>\n",
       "</div>"
      ],
      "text/plain": [
       "    User ID  Gender  Age  EstimatedSalary  Purchased\n",
       "0  15624510    Male   19            19000          0\n",
       "1  15810944    Male   35            20000          0\n",
       "2  15668575  Female   26            43000          0\n",
       "3  15603246  Female   27            57000          0\n",
       "4  15804002    Male   19            76000          0"
      ]
     },
     "execution_count": 2,
     "metadata": {},
     "output_type": "execute_result"
    }
   ],
   "source": [
    "data =  pd.read_csv('Social_Network_Ads.csv')\n",
    "data.head(5)"
   ]
  },
  {
   "cell_type": "code",
   "execution_count": 6,
   "id": "875f9974",
   "metadata": {
    "execution": {
     "iopub.execute_input": "2022-03-28T06:29:18.841221Z",
     "iopub.status.busy": "2022-03-28T06:29:18.831591Z",
     "iopub.status.idle": "2022-03-28T06:29:18.855532Z",
     "shell.execute_reply": "2022-03-28T06:29:18.855949Z",
     "shell.execute_reply.started": "2022-03-28T05:56:12.156157Z"
    },
    "papermill": {
     "duration": 0.046711,
     "end_time": "2022-03-28T06:29:18.856100",
     "exception": false,
     "start_time": "2022-03-28T06:29:18.809389",
     "status": "completed"
    },
    "scrolled": true,
    "tags": []
   },
   "outputs": [
    {
     "name": "stdout",
     "output_type": "stream",
     "text": [
      "<class 'pandas.core.frame.DataFrame'>\n",
      "RangeIndex: 400 entries, 0 to 399\n",
      "Data columns (total 5 columns):\n",
      " #   Column           Non-Null Count  Dtype \n",
      "---  ------           --------------  ----- \n",
      " 0   User ID          400 non-null    int64 \n",
      " 1   Gender           400 non-null    object\n",
      " 2   Age              400 non-null    int64 \n",
      " 3   EstimatedSalary  400 non-null    int64 \n",
      " 4   Purchased        400 non-null    int64 \n",
      "dtypes: int64(4), object(1)\n",
      "memory usage: 15.8+ KB\n"
     ]
    }
   ],
   "source": [
    "data.info()"
   ]
  },
  {
   "cell_type": "markdown",
   "id": "12d6a897",
   "metadata": {},
   "source": [
    "* Checking Basic statistics of the dataset"
   ]
  },
  {
   "cell_type": "markdown",
   "id": "765f4ffe",
   "metadata": {},
   "source": [
    "* Checking for NAN values"
   ]
  },
  {
   "cell_type": "code",
   "execution_count": 8,
   "id": "3b3189cf",
   "metadata": {
    "execution": {
     "iopub.execute_input": "2022-03-28T06:29:18.965383Z",
     "iopub.status.busy": "2022-03-28T06:29:18.964498Z",
     "iopub.status.idle": "2022-03-28T06:29:18.971462Z",
     "shell.execute_reply": "2022-03-28T06:29:18.971880Z",
     "shell.execute_reply.started": "2022-03-28T05:56:12.199413Z"
    },
    "papermill": {
     "duration": 0.030335,
     "end_time": "2022-03-28T06:29:18.972034",
     "exception": false,
     "start_time": "2022-03-28T06:29:18.941699",
     "status": "completed"
    },
    "tags": []
   },
   "outputs": [
    {
     "data": {
      "text/plain": [
       "User ID            0\n",
       "Gender             0\n",
       "Age                0\n",
       "EstimatedSalary    0\n",
       "Purchased          0\n",
       "dtype: int64"
      ]
     },
     "execution_count": 8,
     "metadata": {},
     "output_type": "execute_result"
    }
   ],
   "source": [
    "data.isnull().sum()"
   ]
  },
  {
   "cell_type": "markdown",
   "id": "6c2e4280",
   "metadata": {},
   "source": [
    "* Displaying dimensions of the dataframe"
   ]
  },
  {
   "cell_type": "code",
   "execution_count": 9,
   "id": "f45c678b",
   "metadata": {
    "execution": {
     "iopub.execute_input": "2022-03-28T06:29:19.017227Z",
     "iopub.status.busy": "2022-03-28T06:29:19.016330Z",
     "iopub.status.idle": "2022-03-28T06:29:19.021485Z",
     "shell.execute_reply": "2022-03-28T06:29:19.021945Z",
     "shell.execute_reply.started": "2022-03-28T05:56:12.2089Z"
    },
    "papermill": {
     "duration": 0.029216,
     "end_time": "2022-03-28T06:29:19.022097",
     "exception": false,
     "start_time": "2022-03-28T06:29:18.992881",
     "status": "completed"
    },
    "scrolled": true,
    "tags": []
   },
   "outputs": [
    {
     "data": {
      "text/plain": [
       "(400, 5)"
      ]
     },
     "execution_count": 9,
     "metadata": {},
     "output_type": "execute_result"
    }
   ],
   "source": [
    "data.shape"
   ]
  },
  {
   "cell_type": "markdown",
   "id": "5d11ca3e",
   "metadata": {},
   "source": [
    "* Loading 'Age', 'Estimated_salary' as the features in 'x' and 'Purchased' as the target variable in 'y'"
   ]
  },
  {
   "cell_type": "code",
   "execution_count": 10,
   "id": "9dfff176",
   "metadata": {
    "execution": {
     "iopub.execute_input": "2022-03-28T06:29:19.173492Z",
     "iopub.status.busy": "2022-03-28T06:29:19.172628Z",
     "iopub.status.idle": "2022-03-28T06:29:19.176335Z",
     "shell.execute_reply": "2022-03-28T06:29:19.176850Z",
     "shell.execute_reply.started": "2022-03-28T05:56:12.243016Z"
    },
    "papermill": {
     "duration": 0.028123,
     "end_time": "2022-03-28T06:29:19.177000",
     "exception": false,
     "start_time": "2022-03-28T06:29:19.148877",
     "status": "completed"
    },
    "tags": []
   },
   "outputs": [],
   "source": [
    "x = data.iloc[:,2:4]"
   ]
  },
  {
   "cell_type": "code",
   "execution_count": 11,
   "id": "5970de48",
   "metadata": {
    "execution": {
     "iopub.execute_input": "2022-03-28T06:29:19.223559Z",
     "iopub.status.busy": "2022-03-28T06:29:19.222630Z",
     "iopub.status.idle": "2022-03-28T06:29:19.225923Z",
     "shell.execute_reply": "2022-03-28T06:29:19.226393Z",
     "shell.execute_reply.started": "2022-03-28T05:56:12.257093Z"
    },
    "papermill": {
     "duration": 0.027913,
     "end_time": "2022-03-28T06:29:19.226553",
     "exception": false,
     "start_time": "2022-03-28T06:29:19.198640",
     "status": "completed"
    },
    "tags": []
   },
   "outputs": [],
   "source": [
    "y = data.iloc[:,4]\n"
   ]
  },
  {
   "cell_type": "markdown",
   "id": "89afc4dd",
   "metadata": {},
   "source": [
    "* Spliting data into 75% training and 25% testing data"
   ]
  },
  {
   "cell_type": "code",
   "execution_count": 12,
   "id": "cf264b8a",
   "metadata": {
    "execution": {
     "iopub.execute_input": "2022-03-28T06:29:19.272695Z",
     "iopub.status.busy": "2022-03-28T06:29:19.271798Z",
     "iopub.status.idle": "2022-03-28T06:29:19.277059Z",
     "shell.execute_reply": "2022-03-28T06:29:19.277476Z",
     "shell.execute_reply.started": "2022-03-28T05:56:12.26996Z"
    },
    "papermill": {
     "duration": 0.030028,
     "end_time": "2022-03-28T06:29:19.277635",
     "exception": false,
     "start_time": "2022-03-28T06:29:19.247607",
     "status": "completed"
    },
    "tags": []
   },
   "outputs": [],
   "source": [
    "x_train, x_test, y_train, y_test = train_test_split(x, y, test_size=0.25, random_state=42)"
   ]
  },
  {
   "cell_type": "markdown",
   "id": "4c47bb31",
   "metadata": {},
   "source": [
    "* Using the StandardScaler to standardize the values"
   ]
  },
  {
   "cell_type": "code",
   "execution_count": 13,
   "id": "4e75054e",
   "metadata": {
    "execution": {
     "iopub.execute_input": "2022-03-28T06:29:19.324179Z",
     "iopub.status.busy": "2022-03-28T06:29:19.323294Z",
     "iopub.status.idle": "2022-03-28T06:29:19.330964Z",
     "shell.execute_reply": "2022-03-28T06:29:19.331460Z",
     "shell.execute_reply.started": "2022-03-28T05:56:12.28268Z"
    },
    "papermill": {
     "duration": 0.032721,
     "end_time": "2022-03-28T06:29:19.331618",
     "exception": false,
     "start_time": "2022-03-28T06:29:19.298897",
     "status": "completed"
    },
    "tags": []
   },
   "outputs": [],
   "source": [
    "scale = StandardScaler()\n",
    "x_train = scale.fit_transform(x_train)\n",
    "x_test = scale.transform(x_test)"
   ]
  },
  {
   "cell_type": "markdown",
   "id": "00ac8543",
   "metadata": {},
   "source": [
    "* Preparing and Training our Logistic Regression model with the training and testing data"
   ]
  },
  {
   "cell_type": "code",
   "execution_count": 14,
   "id": "31c4edae",
   "metadata": {
    "execution": {
     "iopub.execute_input": "2022-03-28T06:29:19.382781Z",
     "iopub.status.busy": "2022-03-28T06:29:19.381797Z",
     "iopub.status.idle": "2022-03-28T06:29:19.395849Z",
     "shell.execute_reply": "2022-03-28T06:29:19.394978Z",
     "shell.execute_reply.started": "2022-03-28T05:56:12.299554Z"
    },
    "papermill": {
     "duration": 0.043306,
     "end_time": "2022-03-28T06:29:19.396046",
     "exception": false,
     "start_time": "2022-03-28T06:29:19.352740",
     "status": "completed"
    },
    "tags": []
   },
   "outputs": [
    {
     "name": "stdout",
     "output_type": "stream",
     "text": [
      "[[ 0.812419   -1.39920777]\n",
      " [ 2.0889839   0.52871943]\n",
      " [-0.95513241 -0.75656537]\n",
      " [ 1.0088136   0.76240757]\n",
      " [-0.85693511 -1.22394166]\n",
      " [-0.75873781 -0.23076704]\n",
      " [ 0.9106163   1.08372877]\n",
      " [-0.85693511  0.38266434]\n",
      " [ 0.2232352   0.14897619]\n",
      " [ 0.4196298  -0.14313399]]\n",
      "---------------\n",
      "[0 1 0 1 0 0 1 0 0 0]\n"
     ]
    }
   ],
   "source": [
    "lr = LogisticRegression(random_state = 0,solver = 'lbfgs')\n",
    "lr.fit(x_train,y_train)\n",
    "pred = lr.predict(x_test)\n",
    "       \n",
    "print(x_test[:10])\n",
    "print('-'*15)\n",
    "print(pred[:10])"
   ]
  },
  {
   "cell_type": "code",
   "execution_count": 15,
   "id": "57fb81e8",
   "metadata": {
    "execution": {
     "iopub.execute_input": "2022-03-28T06:29:19.452324Z",
     "iopub.status.busy": "2022-03-28T06:29:19.451725Z",
     "iopub.status.idle": "2022-03-28T06:29:19.458805Z",
     "shell.execute_reply": "2022-03-28T06:29:19.459622Z",
     "shell.execute_reply.started": "2022-03-28T05:56:12.324168Z"
    },
    "papermill": {
     "duration": 0.040457,
     "end_time": "2022-03-28T06:29:19.459855",
     "exception": false,
     "start_time": "2022-03-28T06:29:19.419398",
     "status": "completed"
    },
    "scrolled": true,
    "tags": []
   },
   "outputs": [
    {
     "name": "stdout",
     "output_type": "stream",
     "text": [
      "Expected Output: [0 1 0 1 0 0 1 0 0 0]\n",
      "---------------\n",
      "Predicted Output:\n",
      " 209    0\n",
      "280    1\n",
      "33     0\n",
      "210    1\n",
      "93     0\n",
      "84     0\n",
      "329    1\n",
      "94     0\n",
      "266    0\n",
      "126    0\n",
      "Name: Purchased, dtype: int64\n"
     ]
    }
   ],
   "source": [
    "print('Expected Output:',pred[:10])\n",
    "print('-'*15)\n",
    "print('Predicted Output:\\n',y_test[:10])"
   ]
  },
  {
   "cell_type": "markdown",
   "id": "c48e3393",
   "metadata": {},
   "source": [
    "* Evaluating the model based on confusion matrix"
   ]
  },
  {
   "cell_type": "code",
   "execution_count": 16,
   "id": "c9eb044c",
   "metadata": {
    "execution": {
     "iopub.execute_input": "2022-03-28T06:29:19.527854Z",
     "iopub.status.busy": "2022-03-28T06:29:19.526890Z",
     "iopub.status.idle": "2022-03-28T06:29:19.539096Z",
     "shell.execute_reply": "2022-03-28T06:29:19.539782Z",
     "shell.execute_reply.started": "2022-03-28T05:56:12.333094Z"
    },
    "papermill": {
     "duration": 0.04883,
     "end_time": "2022-03-28T06:29:19.540007",
     "exception": false,
     "start_time": "2022-03-28T06:29:19.491177",
     "status": "completed"
    },
    "tags": []
   },
   "outputs": [
    {
     "name": "stdout",
     "output_type": "stream",
     "text": [
      "[[61  2]\n",
      " [12 25]]\n"
     ]
    }
   ],
   "source": [
    "\n",
    "matrix = confusion_matrix(y_test,pred,labels = lr.classes_)\n",
    "print(matrix)\n",
    "\n",
    "tp, fn, fp, tn = confusion_matrix(y_test,pred,labels=[1,0]).reshape(-1)"
   ]
  },
  {
   "cell_type": "code",
   "execution_count": 17,
   "id": "d37b62ba",
   "metadata": {
    "execution": {
     "iopub.execute_input": "2022-03-28T06:29:19.613279Z",
     "iopub.status.busy": "2022-03-28T06:29:19.612311Z",
     "iopub.status.idle": "2022-03-28T06:29:19.850543Z",
     "shell.execute_reply": "2022-03-28T06:29:19.850969Z",
     "shell.execute_reply.started": "2022-03-28T05:56:12.346772Z"
    },
    "papermill": {
     "duration": 0.273277,
     "end_time": "2022-03-28T06:29:19.851166",
     "exception": false,
     "start_time": "2022-03-28T06:29:19.577889",
     "status": "completed"
    },
    "scrolled": true,
    "tags": []
   },
   "outputs": [
    {
     "data": {
      "image/png": "[encoded data removed]",
      "text/plain": [
       "<Figure size 640x480 with 2 Axes>"
      ]
     },
     "metadata": {},
     "output_type": "display_data"
    }
   ],
   "source": [
    "conf_matrix = ConfusionMatrixDisplay(confusion_matrix=matrix,display_labels=lr.classes_)\n",
    "conf_matrix.plot(cmap=plt.cm.Blues)\n",
    "plt.show()"
   ]
  },
  {
   "cell_type": "markdown",
   "id": "dbe0a3fd",
   "metadata": {},
   "source": [
    "* Determining the Accuracy,Error Rate,Recall,Precision of the model"
   ]
  },
  {
   "cell_type": "code",
   "execution_count": 43,
   "id": "148da0b3",
   "metadata": {
    "execution": {
     "iopub.execute_input": "2022-03-28T06:29:19.916227Z",
     "iopub.status.busy": "2022-03-28T06:29:19.915276Z",
     "iopub.status.idle": "2022-03-28T06:29:19.922834Z",
     "shell.execute_reply": "2022-03-28T06:29:19.922345Z",
     "shell.execute_reply.started": "2022-03-28T05:56:12.569896Z"
    },
    "papermill": {
     "duration": 0.040929,
     "end_time": "2022-03-28T06:29:19.922962",
     "exception": false,
     "start_time": "2022-03-28T06:29:19.882033",
     "status": "completed"
    },
    "scrolled": true,
    "tags": []
   },
   "outputs": [
    {
     "name": "stdout",
     "output_type": "stream",
     "text": [
      "              precision    recall  f1-score   support\n",
      "\n",
      "           0       0.84      0.97      0.90        63\n",
      "           1       0.93      0.68      0.78        37\n",
      "\n",
      "    accuracy                           0.86       100\n",
      "   macro avg       0.88      0.82      0.84       100\n",
      "weighted avg       0.87      0.86      0.85       100\n",
      "\n"
     ]
    }
   ],
   "source": [
    "print(classification_report(y_test,pred))"
   ]
  },
  {
   "cell_type": "code",
   "execution_count": 19,
   "id": "b3256e8d",
   "metadata": {
    "execution": {
     "iopub.execute_input": "2022-03-28T06:29:19.977026Z",
     "iopub.status.busy": "2022-03-28T06:29:19.976052Z",
     "iopub.status.idle": "2022-03-28T06:29:19.983069Z",
     "shell.execute_reply": "2022-03-28T06:29:19.982381Z",
     "shell.execute_reply.started": "2022-03-28T05:56:12.581406Z"
    },
    "papermill": {
     "duration": 0.036572,
     "end_time": "2022-03-28T06:29:19.983269",
     "exception": false,
     "start_time": "2022-03-28T06:29:19.946697",
     "status": "completed"
    },
    "tags": []
   },
   "outputs": [
    {
     "name": "stdout",
     "output_type": "stream",
     "text": [
      "\n",
      "Accuracy: 0.86\n",
      "Error Rate: 0.14\n",
      "Sensitivity: 0.6756756756756757\n",
      "Specificity: 0.9682539682539683\n",
      "Precision: 0.9259259259259259\n",
      "False Positive Rate : 0.031746031746031744\n"
     ]
    }
   ],
   "source": [
    "print('\\nAccuracy: {:.2f}'.format(accuracy_score(y_test,pred)))\n",
    "print('Error Rate:',(fp+fn)/(tp+tn+fn+fp))\n",
    "print('Sensitivity:',tp/(tp+fn))\n",
    "print('Specificity:',tn/(fp+tn))\n",
    "print('Precision:',tp/(tp+fp))\n",
    "print('False Positive Rate :',fp/(tn+fp))"
   ]
  }
 ],
 "metadata": {
  "kernelspec": {
   "display_name": "Python 3 (ipykernel)",
   "language": "python",
   "name": "python3"
  },
  "language_info": {
   "codemirror_mode": {
    "name": "ipython",
    "version": 3
   },
   "file_extension": ".py",
   "mimetype": "text/x-python",
   "name": "python",
   "nbconvert_exporter": "python",
   "pygments_lexer": "ipython3",
   "version": "3.11.2"
  },
  "papermill": {
   "default_parameters": {},
   "duration": 11.597814,
   "end_time": "2022-03-28T06:29:21.187540",
   "environment_variables": {},
   "exception": null,
   "input_path": "__notebook__.ipynb",
   "output_path": "__notebook__.ipynb",
   "parameters": {},
   "start_time": "2022-03-28T06:29:09.589726",
   "version": "2.3.3"
  }
 },
 "nbformat": 4,
 "nbformat_minor": 5
}
